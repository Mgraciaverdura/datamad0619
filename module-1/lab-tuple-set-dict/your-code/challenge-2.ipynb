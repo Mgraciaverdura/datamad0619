{
 "cells": [
  {
   "cell_type": "markdown",
   "metadata": {},
   "source": [
    "## Challenge 2: Sets\n",
    "\n",
    "There are a lot to learn about Python Sets and the information presented in the lesson is limited due to its length. To learn Python Sets in depth you are strongly encouraged to review the W3Schools tutorial on [Python Sets Examples and Methods](https://www.w3schools.com/python/python_sets.asp) before you work on this lab. Some difficult questions in this lab have their solutions in the W3Schools tutorial.\n",
    "\n",
    "#### First, import the Python `random` libary"
   ]
  },
  {
   "cell_type": "code",
   "execution_count": 1,
   "metadata": {},
   "outputs": [],
   "source": [
    "import random"
   ]
  },
  {
   "cell_type": "markdown",
   "metadata": {},
   "source": [
    "#### In the cell below, create a list named `sample_list_1` with 80 random values. \n",
    "\n",
    "Requirements:\n",
    "\n",
    "* Each value is an integer falling between 0 and 100.\n",
    "* Each value in the list is unique.\n",
    "\n",
    "Print `sample_list_1` to review its values\n",
    "\n",
    "*Hint: use `random.sample` ([reference](https://docs.python.org/3/library/random.html#random.sample)).*"
   ]
  },
  {
   "cell_type": "code",
   "execution_count": 4,
   "metadata": {},
   "outputs": [
    {
     "name": "stdout",
     "output_type": "stream",
     "text": [
      "[13, 5, 6, 60, 11, 98, 91, 39, 24, 26, 67, 52, 79, 87, 35, 88, 32, 53, 28, 99, 92, 95, 61, 46, 22, 70, 43, 3, 2, 25, 84, 75, 1, 56, 90, 41, 8, 30, 15, 44, 55, 59, 97, 49, 9, 38, 62, 36, 64, 71, 37, 31, 93, 50, 72, 58, 78, 45, 27, 74, 85, 10, 47, 82, 40, 80, 81, 86, 63, 96, 65, 54, 57, 94, 16, 18, 12, 73, 29, 69]\n"
     ]
    }
   ],
   "source": [
    "# Your code here\n",
    "import random\n",
    "sample_list_1=random.sample(range(100), k=80) #all elements are unique\n",
    "print(sample_list_1)\n",
    "\n"
   ]
  },
  {
   "cell_type": "markdown",
   "metadata": {},
   "source": [
    "#### Convert `sample_list_1` to a set called `set1`. Print the length of the set. Is its length still 80?"
   ]
  },
  {
   "cell_type": "code",
   "execution_count": 6,
   "metadata": {},
   "outputs": [
    {
     "name": "stdout",
     "output_type": "stream",
     "text": [
      "{1, 2, 3, 5, 6, 8, 9, 10, 11, 12, 13, 15, 16, 18, 22, 24, 25, 26, 27, 28, 29, 30, 31, 32, 35, 36, 37, 38, 39, 40, 41, 43, 44, 45, 46, 47, 49, 50, 52, 53, 54, 55, 56, 57, 58, 59, 60, 61, 62, 63, 64, 65, 67, 69, 70, 71, 72, 73, 74, 75, 78, 79, 80, 81, 82, 84, 85, 86, 87, 88, 90, 91, 92, 93, 94, 95, 96, 97, 98, 99}\n"
     ]
    }
   ],
   "source": [
    "# Your code here\n",
    "set1 = set(sample_list_1)\n",
    "print(set1)"
   ]
  },
  {
   "cell_type": "markdown",
   "metadata": {},
   "source": [
    "#### Create another list named `sample_list_2` with 80 random values.\n",
    "\n",
    "Requirements:\n",
    "\n",
    "* Each value is an integer falling between 0 and 100.\n",
    "* The values in the list don't have to be unique.\n",
    "\n",
    "*Hint: Use a FOR loop.*"
   ]
  },
  {
   "cell_type": "markdown",
   "metadata": {},
   "source": []
  },
  {
   "cell_type": "code",
   "execution_count": 18,
   "metadata": {},
   "outputs": [
    {
     "name": "stdout",
     "output_type": "stream",
     "text": [
      "[72, 20, 28, 74, 17, 76, 79, 7, 75, 28, 17, 56, 5, 25, 96, 80, 29, 94, 80, 52, 42, 90, 23, 24, 29, 10, 62, 71, 89, 7, 34, 83, 78, 44, 14, 28, 85, 66, 86, 94, 57, 32, 40, 69, 11, 23, 75, 8, 12, 19, 25, 64, 26, 6, 84, 30, 63, 72, 96, 2, 31, 50, 95, 6, 92, 70, 35, 92, 74, 68, 96, 48, 6, 78, 73, 12, 8, 74, 56, 88]\n"
     ]
    }
   ],
   "source": [
    "# Your code here\n",
    "import random\n",
    "sample_list_2=[]\n",
    "\n",
    "for i in range(0,80):\n",
    "    number = random.randrange(100)\n",
    "    sample_list_2.append(number)\n",
    "    \n",
    "print(sample_list_2)"
   ]
  },
  {
   "cell_type": "markdown",
   "metadata": {},
   "source": [
    "#### Convert `sample_list_2` to a set called `set2`. Print the length of the set. Is its length still 80?"
   ]
  },
  {
   "cell_type": "code",
   "execution_count": 20,
   "metadata": {},
   "outputs": [
    {
     "name": "stdout",
     "output_type": "stream",
     "text": [
      "{2, 5, 6, 7, 8, 10, 11, 12, 14, 17, 19, 20, 23, 24, 25, 26, 28, 29, 30, 31, 32, 34, 35, 40, 42, 44, 48, 50, 52, 56, 57, 62, 63, 64, 66, 68, 69, 70, 71, 72, 73, 74, 75, 76, 78, 79, 80, 83, 84, 85, 86, 88, 89, 90, 92, 94, 95, 96}\n",
      "58\n"
     ]
    }
   ],
   "source": [
    "# Your code here\n",
    "set2 = set(sample_list_2)\n",
    "print(set2)\n",
    "print(len(set2))"
   ]
  },
  {
   "cell_type": "markdown",
   "metadata": {},
   "source": [
    "#### Identify the elements present in `set1` but not in `set2`. Assign the elements to a new set named `set3`."
   ]
  },
  {
   "cell_type": "markdown",
   "metadata": {},
   "source": [
    "set3={}\n",
    "list3 = list(set3)\n",
    "for i in set1:\n",
    "    if i in set2:\n",
    "        list3.append(i)\n",
    "print(list3)"
   ]
  },
  {
   "cell_type": "markdown",
   "metadata": {},
   "source": [
    "#### Identify the elements present in `set2` but not in `set1`. Assign the elements to a new set named `set4`."
   ]
  },
  {
   "cell_type": "code",
   "execution_count": 29,
   "metadata": {},
   "outputs": [
    {
     "name": "stdout",
     "output_type": "stream",
     "text": [
      "{34, 66, 68, 7, 42, 76, 14, 48, 17, 19, 20, 83, 23, 89}\n"
     ]
    }
   ],
   "source": [
    "# Your code here\n",
    "set4=set2.difference(set1)\n",
    "print(set4)"
   ]
  },
  {
   "cell_type": "markdown",
   "metadata": {},
   "source": [
    "#### Now Identify the elements shared between `set1` and `set2`. Assign the elements to a new set named `set5`."
   ]
  },
  {
   "cell_type": "code",
   "execution_count": 33,
   "metadata": {},
   "outputs": [
    {
     "name": "stdout",
     "output_type": "stream",
     "text": [
      "{2, 5, 6, 8, 10, 11, 12, 24, 25, 26, 28, 29, 30, 31, 32, 35, 40, 44, 50, 52, 56, 57, 62, 63, 64, 69, 70, 71, 72, 73, 74, 75, 78, 79, 80, 84, 85, 86, 88, 90, 92, 94, 95, 96}\n"
     ]
    }
   ],
   "source": [
    "# Your code here\n",
    "set1={1, 2, 3, 5, 6, 8, 9, 10, 11, 12, 13, 15, 16, 18, 22, 24, 25, 26, 27, 28, 29, 30, 31, 32, 35, 36, 37, 38, 39, 40, 41, 43, 44, 45, 46, 47, 49, 50, 52, 53, 54, 55, 56, 57, 58, 59, 60, 61, 62, 63, 64, 65, 67, 69, 70, 71, 72, 73, 74, 75, 78, 79, 80, 81, 82, 84, 85, 86, 87, 88, 90, 91, 92, 93, 94, 95, 96, 97, 98, 99}\n",
    "set2={2, 5, 6, 7, 8, 10, 11, 12, 14, 17, 19, 20, 23, 24, 25, 26, 28, 29, 30, 31, 32, 34, 35, 40, 42, 44, 48, 50, 52, 56, 57, 62, 63, 64, 66, 68, 69, 70, 71, 72, 73, 74, 75, 76, 78, 79, 80, 83, 84, 85, 86, 88, 89, 90, 92, 94, 95, 96}\n",
    "set5=set1.intersection(set2)\n",
    "print(set5)"
   ]
  },
  {
   "cell_type": "markdown",
   "metadata": {},
   "source": [
    "#### What is the relationship among the following values:\n",
    "\n",
    "* len(set1)\n",
    "* len(set2)\n",
    "* len(set3)\n",
    "* len(set4)\n",
    "* len(set5)\n",
    "\n",
    "Use a math formular to represent that relationship. Test your formular with Python code."
   ]
  },
  {
   "cell_type": "code",
   "execution_count": null,
   "metadata": {},
   "outputs": [],
   "source": [
    "# Your code here\n"
   ]
  },
  {
   "cell_type": "markdown",
   "metadata": {},
   "source": [
    "#### Create an empty set called `set6`."
   ]
  },
  {
   "cell_type": "code",
   "execution_count": 34,
   "metadata": {},
   "outputs": [],
   "source": [
    "# Your code here\n",
    "set6={}"
   ]
  },
  {
   "cell_type": "markdown",
   "metadata": {},
   "source": [
    "#### Add `set3` and `set5` to `set6` using the Python Set `update` method."
   ]
  },
  {
   "cell_type": "code",
   "execution_count": 42,
   "metadata": {},
   "outputs": [
    {
     "name": "stdout",
     "output_type": "stream",
     "text": [
      "{}\n"
     ]
    }
   ],
   "source": [
    "# Your code here\n",
    "set4={34, 66, 68, 7, 42, 76, 14, 48, 17, 19, 20, 83, 23, 89}\n",
    "set5={2, 5, 6, 8, 10, 11, 12, 24, 25, 26, 28, 29, 30, 31, 32, 35, 40, 44, 50, 52, 56, 57, 62, 63, 64, 69, 70, 71, 72, 73, 74, 75, 78, 79, 80, 84, 85, 86, 88, 90, 92, 94, 95, 96}\n",
    "set6={}\n",
    "set4.union(set6)\n",
    "set5.update(set6)\n",
    "print(set6)"
   ]
  },
  {
   "cell_type": "markdown",
   "metadata": {},
   "source": [
    "#### Check if `set1` and `set6` are equal."
   ]
  },
  {
   "cell_type": "code",
   "execution_count": 44,
   "metadata": {},
   "outputs": [
    {
     "name": "stdout",
     "output_type": "stream",
     "text": [
      "They are not equal\n",
      "They are not equal\n",
      "They are not equal\n",
      "They are not equal\n",
      "They are not equal\n",
      "They are not equal\n",
      "They are not equal\n",
      "They are not equal\n",
      "They are not equal\n",
      "They are not equal\n",
      "They are not equal\n",
      "They are not equal\n",
      "They are not equal\n",
      "They are not equal\n",
      "They are not equal\n",
      "They are not equal\n",
      "They are not equal\n",
      "They are not equal\n",
      "They are not equal\n",
      "They are not equal\n",
      "They are not equal\n",
      "They are not equal\n",
      "They are not equal\n",
      "They are not equal\n",
      "They are not equal\n",
      "They are not equal\n",
      "They are not equal\n",
      "They are not equal\n",
      "They are not equal\n",
      "They are not equal\n",
      "They are not equal\n",
      "They are not equal\n",
      "They are not equal\n",
      "They are not equal\n",
      "They are not equal\n",
      "They are not equal\n",
      "They are not equal\n",
      "They are not equal\n",
      "They are not equal\n",
      "They are not equal\n",
      "They are not equal\n",
      "They are not equal\n",
      "They are not equal\n",
      "They are not equal\n"
     ]
    }
   ],
   "source": [
    "# Your code here\n",
    "set5={2, 5, 6, 8, 10, 11, 12, 24, 25, 26, 28, 29, 30, 31, 32, 35, 40, 44, 50, 52, 56, 57, 62, 63, 64, 69, 70, 71, 72, 73, 74, 75, 78, 79, 80, 84, 85, 86, 88, 90, 92, 94, 95, 96}\n",
    "set4={34, 66, 68, 7, 42, 76, 14, 48, 17, 19, 20, 83, 23, 89}\n",
    "for i in set5:\n",
    "    if set5.difference(set4)==0:\n",
    "        print(\"They are equal\")\n",
    "    else:\n",
    "        print(\"They are not equal\")"
   ]
  },
  {
   "cell_type": "markdown",
   "metadata": {},
   "source": [
    "#### Check if `set1` contains `set2` using the Python Set `issubset` method. Then check if `set1` contains `set3`.*"
   ]
  },
  {
   "cell_type": "code",
   "execution_count": 46,
   "metadata": {},
   "outputs": [
    {
     "name": "stdout",
     "output_type": "stream",
     "text": [
      "False\n",
      "False\n"
     ]
    }
   ],
   "source": [
    "# Your code here\n",
    "print(set1.issubset(set2))\n",
    "print(set1.issubset(set3))"
   ]
  },
  {
   "cell_type": "markdown",
   "metadata": {},
   "source": [
    "#### Using the Python Set `union` method, aggregate `set3`, `set4`, and `set5`. Then aggregate `set1` and `set2`. \n",
    "\n",
    "#### Check if the aggregated values are equal."
   ]
  },
  {
   "cell_type": "code",
   "execution_count": 54,
   "metadata": {},
   "outputs": [
    {
     "name": "stdout",
     "output_type": "stream",
     "text": [
      "{2, 5, 6, 7, 8, 10, 11, 12, 14, 17, 19, 20, 23, 24, 25, 26, 28, 29, 30, 31, 32, 34, 35, 40, 42, 44, 48, 50, 52, 56, 57, 62, 63, 64, 66, 68, 69, 70, 71, 72, 73, 74, 75, 76, 78, 79, 80, 83, 84, 85, 86, 88, 89, 90, 92, 94, 95, 96}\n"
     ]
    }
   ],
   "source": [
    "# Your code here\n",
    "set3={2, 5, 6, 7, 8, 10, 11, 12, 14, 17, 19, 20, 23, 24, 25, 26, 28, 29, 30, 31, 32, 34, 35, 40, 42, 44, 48, 50, 52, 56, 57, 62, 63, 64, 66, 68, 69, 70, 71, 72, 73, 74, 75, 76, 78, 79, 80, 83, 84, 85, 86, 88, 89, 90, 92, 94, 95, 96}\n",
    "set4={34, 66, 68, 7, 42, 76, 14, 48, 17, 19, 20, 83, 23, 89}\n",
    "set5={2, 5, 6, 8, 10, 11, 12, 24, 25, 26, 28, 29, 30, 31, 32, 35, 40, 44, 50, 52, 56, 57, 62, 63, 64, 69, 70, 71, 72, 73, 74, 75, 78, 79, 80, 84, 85, 86, 88, 90, 92, 94, 95, 96}\n",
    "result=set3.union(set4,set5)\n",
    "print(set3)"
   ]
  },
  {
   "cell_type": "markdown",
   "metadata": {},
   "source": [
    "#### Using the `pop` method, remove the first element from `set1`."
   ]
  },
  {
   "cell_type": "code",
   "execution_count": 56,
   "metadata": {},
   "outputs": [
    {
     "name": "stdout",
     "output_type": "stream",
     "text": [
      "1\n"
     ]
    }
   ],
   "source": [
    "# Your code here\n",
    "print(set1.pop())"
   ]
  },
  {
   "cell_type": "markdown",
   "metadata": {},
   "source": [
    "#### Remove every element in the following list from `set1` if they are present in the set. Print the remaining elements.\n",
    "\n",
    "```\n",
    "list_to_remove = [1, 9, 11, 19, 21, 29, 31, 39, 41, 49, 51, 59, 61, 69, 71, 79, 81, 89, 91, 99]\n",
    "```"
   ]
  },
  {
   "cell_type": "code",
   "execution_count": 61,
   "metadata": {
    "scrolled": true
   },
   "outputs": [
    {
     "name": "stdout",
     "output_type": "stream",
     "text": [
      "<built-in method clear of list object at 0x7f9f34044748>\n"
     ]
    }
   ],
   "source": [
    "# Your code here\n",
    "list_to_remove = [1, 9, 11, 19, 21, 29, 31, 39, 41, 49, 51, 59, 61, 69, 71, 79, 81, 89, 91, 99]\n",
    "print(list_to_remove.clear)"
   ]
  },
  {
   "cell_type": "code",
   "execution_count": null,
   "metadata": {},
   "outputs": [],
   "source": []
  }
 ],
 "metadata": {
  "kernelspec": {
   "display_name": "Python 3",
   "language": "python",
   "name": "python3"
  },
  "language_info": {
   "codemirror_mode": {
    "name": "ipython",
    "version": 3
   },
   "file_extension": ".py",
   "mimetype": "text/x-python",
   "name": "python",
   "nbconvert_exporter": "python",
   "pygments_lexer": "ipython3",
   "version": "3.6.8"
  }
 },
 "nbformat": 4,
 "nbformat_minor": 2
}
