{
 "cells": [
  {
   "cell_type": "markdown",
   "metadata": {},
   "source": [
    "# Cleaning data - sharks dataframe"
   ]
  },
  {
   "cell_type": "markdown",
   "metadata": {},
   "source": [
    "# Paso 1: importar dataframe y hacer una primera observación de los datos que la componen"
   ]
  },
  {
   "cell_type": "code",
   "execution_count": 1701,
   "metadata": {},
   "outputs": [],
   "source": [
    "import pandas as pd\n",
    "import os\n",
    "from re import sub\n",
    "import numpy\n",
    "from statistics import mean\n",
    "%matplotlib inline\n",
    "import matplotlib.pyplot as plt"
   ]
  },
  {
   "cell_type": "markdown",
   "metadata": {},
   "source": [
    "En primer lugar, importo el dataframe con el que voy a trabajar para poder empezar a trabajar con los datos."
   ]
  },
  {
   "cell_type": "code",
   "execution_count": 1702,
   "metadata": {
    "scrolled": true
   },
   "outputs": [
    {
     "data": {
      "text/html": [
       "<div>\n",
       "<style scoped>\n",
       "    .dataframe tbody tr th:only-of-type {\n",
       "        vertical-align: middle;\n",
       "    }\n",
       "\n",
       "    .dataframe tbody tr th {\n",
       "        vertical-align: top;\n",
       "    }\n",
       "\n",
       "    .dataframe thead th {\n",
       "        text-align: right;\n",
       "    }\n",
       "</style>\n",
       "<table border=\"1\" class=\"dataframe\">\n",
       "  <thead>\n",
       "    <tr style=\"text-align: right;\">\n",
       "      <th></th>\n",
       "      <th>Case Number</th>\n",
       "      <th>Date</th>\n",
       "      <th>Year</th>\n",
       "      <th>Type</th>\n",
       "      <th>Country</th>\n",
       "      <th>Area</th>\n",
       "      <th>Location</th>\n",
       "      <th>Activity</th>\n",
       "      <th>Name</th>\n",
       "      <th>Sex</th>\n",
       "      <th>...</th>\n",
       "      <th>Species</th>\n",
       "      <th>Investigator or Source</th>\n",
       "      <th>pdf</th>\n",
       "      <th>href formula</th>\n",
       "      <th>href</th>\n",
       "      <th>Case Number.1</th>\n",
       "      <th>Case Number.2</th>\n",
       "      <th>original order</th>\n",
       "      <th>Unnamed: 22</th>\n",
       "      <th>Unnamed: 23</th>\n",
       "    </tr>\n",
       "  </thead>\n",
       "  <tbody>\n",
       "    <tr>\n",
       "      <th>0</th>\n",
       "      <td>2018.06.25</td>\n",
       "      <td>25-Jun-2018</td>\n",
       "      <td>2018.0</td>\n",
       "      <td>Boating</td>\n",
       "      <td>USA</td>\n",
       "      <td>California</td>\n",
       "      <td>Oceanside, San Diego County</td>\n",
       "      <td>Paddling</td>\n",
       "      <td>Julie Wolfe</td>\n",
       "      <td>F</td>\n",
       "      <td>...</td>\n",
       "      <td>White shark</td>\n",
       "      <td>R. Collier, GSAF</td>\n",
       "      <td>2018.06.25-Wolfe.pdf</td>\n",
       "      <td>http://sharkattackfile.net/spreadsheets/pdf_di...</td>\n",
       "      <td>http://sharkattackfile.net/spreadsheets/pdf_di...</td>\n",
       "      <td>2018.06.25</td>\n",
       "      <td>2018.06.25</td>\n",
       "      <td>6303.0</td>\n",
       "      <td>NaN</td>\n",
       "      <td>NaN</td>\n",
       "    </tr>\n",
       "    <tr>\n",
       "      <th>1</th>\n",
       "      <td>2018.06.18</td>\n",
       "      <td>18-Jun-2018</td>\n",
       "      <td>2018.0</td>\n",
       "      <td>Unprovoked</td>\n",
       "      <td>USA</td>\n",
       "      <td>Georgia</td>\n",
       "      <td>St. Simon Island, Glynn County</td>\n",
       "      <td>Standing</td>\n",
       "      <td>Adyson McNeely</td>\n",
       "      <td>F</td>\n",
       "      <td>...</td>\n",
       "      <td>NaN</td>\n",
       "      <td>K.McMurray, TrackingSharks.com</td>\n",
       "      <td>2018.06.18-McNeely.pdf</td>\n",
       "      <td>http://sharkattackfile.net/spreadsheets/pdf_di...</td>\n",
       "      <td>http://sharkattackfile.net/spreadsheets/pdf_di...</td>\n",
       "      <td>2018.06.18</td>\n",
       "      <td>2018.06.18</td>\n",
       "      <td>6302.0</td>\n",
       "      <td>NaN</td>\n",
       "      <td>NaN</td>\n",
       "    </tr>\n",
       "    <tr>\n",
       "      <th>2</th>\n",
       "      <td>2018.06.09</td>\n",
       "      <td>09-Jun-2018</td>\n",
       "      <td>2018.0</td>\n",
       "      <td>Invalid</td>\n",
       "      <td>USA</td>\n",
       "      <td>Hawaii</td>\n",
       "      <td>Habush, Oahu</td>\n",
       "      <td>Surfing</td>\n",
       "      <td>John Denges</td>\n",
       "      <td>M</td>\n",
       "      <td>...</td>\n",
       "      <td>NaN</td>\n",
       "      <td>K.McMurray, TrackingSharks.com</td>\n",
       "      <td>2018.06.09-Denges.pdf</td>\n",
       "      <td>http://sharkattackfile.net/spreadsheets/pdf_di...</td>\n",
       "      <td>http://sharkattackfile.net/spreadsheets/pdf_di...</td>\n",
       "      <td>2018.06.09</td>\n",
       "      <td>2018.06.09</td>\n",
       "      <td>6301.0</td>\n",
       "      <td>NaN</td>\n",
       "      <td>NaN</td>\n",
       "    </tr>\n",
       "    <tr>\n",
       "      <th>3</th>\n",
       "      <td>2018.06.08</td>\n",
       "      <td>08-Jun-2018</td>\n",
       "      <td>2018.0</td>\n",
       "      <td>Unprovoked</td>\n",
       "      <td>AUSTRALIA</td>\n",
       "      <td>New South Wales</td>\n",
       "      <td>Arrawarra Headland</td>\n",
       "      <td>Surfing</td>\n",
       "      <td>male</td>\n",
       "      <td>M</td>\n",
       "      <td>...</td>\n",
       "      <td>2 m shark</td>\n",
       "      <td>B. Myatt, GSAF</td>\n",
       "      <td>2018.06.08-Arrawarra.pdf</td>\n",
       "      <td>http://sharkattackfile.net/spreadsheets/pdf_di...</td>\n",
       "      <td>http://sharkattackfile.net/spreadsheets/pdf_di...</td>\n",
       "      <td>2018.06.08</td>\n",
       "      <td>2018.06.08</td>\n",
       "      <td>6300.0</td>\n",
       "      <td>NaN</td>\n",
       "      <td>NaN</td>\n",
       "    </tr>\n",
       "    <tr>\n",
       "      <th>4</th>\n",
       "      <td>2018.06.04</td>\n",
       "      <td>04-Jun-2018</td>\n",
       "      <td>2018.0</td>\n",
       "      <td>Provoked</td>\n",
       "      <td>MEXICO</td>\n",
       "      <td>Colima</td>\n",
       "      <td>La Ticla</td>\n",
       "      <td>Free diving</td>\n",
       "      <td>Gustavo Ramos</td>\n",
       "      <td>M</td>\n",
       "      <td>...</td>\n",
       "      <td>Tiger shark, 3m</td>\n",
       "      <td>A .Kipper</td>\n",
       "      <td>2018.06.04-Ramos.pdf</td>\n",
       "      <td>http://sharkattackfile.net/spreadsheets/pdf_di...</td>\n",
       "      <td>http://sharkattackfile.net/spreadsheets/pdf_di...</td>\n",
       "      <td>2018.06.04</td>\n",
       "      <td>2018.06.04</td>\n",
       "      <td>6299.0</td>\n",
       "      <td>NaN</td>\n",
       "      <td>NaN</td>\n",
       "    </tr>\n",
       "  </tbody>\n",
       "</table>\n",
       "<p>5 rows × 24 columns</p>\n",
       "</div>"
      ],
      "text/plain": [
       "  Case Number         Date    Year        Type    Country             Area  \\\n",
       "0  2018.06.25  25-Jun-2018  2018.0     Boating        USA       California   \n",
       "1  2018.06.18  18-Jun-2018  2018.0  Unprovoked        USA          Georgia   \n",
       "2  2018.06.09  09-Jun-2018  2018.0     Invalid        USA           Hawaii   \n",
       "3  2018.06.08  08-Jun-2018  2018.0  Unprovoked  AUSTRALIA  New South Wales   \n",
       "4  2018.06.04  04-Jun-2018  2018.0    Provoked     MEXICO           Colima   \n",
       "\n",
       "                         Location     Activity             Name Sex   ...  \\\n",
       "0     Oceanside, San Diego County     Paddling      Julie Wolfe    F  ...   \n",
       "1  St. Simon Island, Glynn County     Standing  Adyson McNeely     F  ...   \n",
       "2                    Habush, Oahu      Surfing      John Denges    M  ...   \n",
       "3              Arrawarra Headland      Surfing             male    M  ...   \n",
       "4                        La Ticla  Free diving   Gustavo Ramos     M  ...   \n",
       "\n",
       "          Species           Investigator or Source                       pdf  \\\n",
       "0      White shark                R. Collier, GSAF      2018.06.25-Wolfe.pdf   \n",
       "1              NaN  K.McMurray, TrackingSharks.com    2018.06.18-McNeely.pdf   \n",
       "2              NaN  K.McMurray, TrackingSharks.com     2018.06.09-Denges.pdf   \n",
       "3        2 m shark                  B. Myatt, GSAF  2018.06.08-Arrawarra.pdf   \n",
       "4  Tiger shark, 3m                       A .Kipper      2018.06.04-Ramos.pdf   \n",
       "\n",
       "                                        href formula  \\\n",
       "0  http://sharkattackfile.net/spreadsheets/pdf_di...   \n",
       "1  http://sharkattackfile.net/spreadsheets/pdf_di...   \n",
       "2  http://sharkattackfile.net/spreadsheets/pdf_di...   \n",
       "3  http://sharkattackfile.net/spreadsheets/pdf_di...   \n",
       "4  http://sharkattackfile.net/spreadsheets/pdf_di...   \n",
       "\n",
       "                                                href Case Number.1  \\\n",
       "0  http://sharkattackfile.net/spreadsheets/pdf_di...    2018.06.25   \n",
       "1  http://sharkattackfile.net/spreadsheets/pdf_di...    2018.06.18   \n",
       "2  http://sharkattackfile.net/spreadsheets/pdf_di...    2018.06.09   \n",
       "3  http://sharkattackfile.net/spreadsheets/pdf_di...    2018.06.08   \n",
       "4  http://sharkattackfile.net/spreadsheets/pdf_di...    2018.06.04   \n",
       "\n",
       "  Case Number.2 original order Unnamed: 22 Unnamed: 23  \n",
       "0    2018.06.25         6303.0         NaN         NaN  \n",
       "1    2018.06.18         6302.0         NaN         NaN  \n",
       "2    2018.06.09         6301.0         NaN         NaN  \n",
       "3    2018.06.08         6300.0         NaN         NaN  \n",
       "4    2018.06.04         6299.0         NaN         NaN  \n",
       "\n",
       "[5 rows x 24 columns]"
      ]
     },
     "execution_count": 1702,
     "metadata": {},
     "output_type": "execute_result"
    }
   ],
   "source": [
    "data = pd.read_csv('attacks.csv', encoding='latin-1')\n",
    "data.head()"
   ]
  },
  {
   "cell_type": "markdown",
   "metadata": {},
   "source": [
    "Después de haber importado este dataframe, busco resolver algunas primeras dudas (¿Qué columnas la componen?, ¿Cuántos datos continenen?, ¿Cuántos nulos hay por columna?, etc.)"
   ]
  },
  {
   "cell_type": "code",
   "execution_count": 1703,
   "metadata": {},
   "outputs": [
    {
     "data": {
      "text/plain": [
       "(25723, 24)"
      ]
     },
     "execution_count": 1703,
     "metadata": {},
     "output_type": "execute_result"
    }
   ],
   "source": [
    "#Número de filas y columnas\n",
    "data.shape"
   ]
  },
  {
   "cell_type": "code",
   "execution_count": 1704,
   "metadata": {},
   "outputs": [
    {
     "name": "stderr",
     "output_type": "stream",
     "text": [
      "/home/marta/.local/lib/python3.6/site-packages/IPython/core/displayhook.py:271: UserWarning: Output cache limit (currently 1000 entries) hit.\n",
      "Flushing oldest 200 entries.\n",
      "  'Flushing oldest {cull_count} entries.'.format(sz=sz, cull_count=cull_count))\n"
     ]
    },
    {
     "data": {
      "text/plain": [
       "Index(['Case Number', 'Date', 'Year', 'Type', 'Country', 'Area', 'Location',\n",
       "       'Activity', 'Name', 'Sex ', 'Age', 'Injury', 'Fatal (Y/N)', 'Time',\n",
       "       'Species ', 'Investigator or Source', 'pdf', 'href formula', 'href',\n",
       "       'Case Number.1', 'Case Number.2', 'original order', 'Unnamed: 22',\n",
       "       'Unnamed: 23'],\n",
       "      dtype='object')"
      ]
     },
     "execution_count": 1704,
     "metadata": {},
     "output_type": "execute_result"
    }
   ],
   "source": [
    "#Nombre de las columnas\n",
    "data.columns"
   ]
  },
  {
   "cell_type": "code",
   "execution_count": 1705,
   "metadata": {},
   "outputs": [
    {
     "data": {
      "text/plain": [
       "Case Number     object\n",
       "Date            object\n",
       "Year           float64\n",
       "Type            object\n",
       "Country         object\n",
       "dtype: object"
      ]
     },
     "execution_count": 1705,
     "metadata": {},
     "output_type": "execute_result"
    }
   ],
   "source": [
    "#tipo de datos\n",
    "data.dtypes.head()"
   ]
  },
  {
   "cell_type": "code",
   "execution_count": 1706,
   "metadata": {},
   "outputs": [
    {
     "data": {
      "text/plain": [
       "Case Number    17021\n",
       "Date           19421\n",
       "Year           19423\n",
       "Type           19425\n",
       "Country        19471\n",
       "dtype: int64"
      ]
     },
     "execution_count": 1706,
     "metadata": {},
     "output_type": "execute_result"
    }
   ],
   "source": [
    "#También me interesa saber cuantos nulos tengo en cada variable\n",
    "data.isnull().sum().head()"
   ]
  },
  {
   "cell_type": "markdown",
   "metadata": {},
   "source": [
    "Creo una copia de la base de datos original, para trabajar desde esa copia (tiburon):"
   ]
  },
  {
   "cell_type": "code",
   "execution_count": 1707,
   "metadata": {},
   "outputs": [
    {
     "data": {
      "text/html": [
       "<div>\n",
       "<style scoped>\n",
       "    .dataframe tbody tr th:only-of-type {\n",
       "        vertical-align: middle;\n",
       "    }\n",
       "\n",
       "    .dataframe tbody tr th {\n",
       "        vertical-align: top;\n",
       "    }\n",
       "\n",
       "    .dataframe thead th {\n",
       "        text-align: right;\n",
       "    }\n",
       "</style>\n",
       "<table border=\"1\" class=\"dataframe\">\n",
       "  <thead>\n",
       "    <tr style=\"text-align: right;\">\n",
       "      <th></th>\n",
       "      <th>Case Number</th>\n",
       "      <th>Date</th>\n",
       "      <th>Year</th>\n",
       "      <th>Type</th>\n",
       "      <th>Country</th>\n",
       "      <th>Area</th>\n",
       "      <th>Location</th>\n",
       "      <th>Activity</th>\n",
       "      <th>Name</th>\n",
       "      <th>Sex</th>\n",
       "      <th>...</th>\n",
       "      <th>Species</th>\n",
       "      <th>Investigator or Source</th>\n",
       "      <th>pdf</th>\n",
       "      <th>href formula</th>\n",
       "      <th>href</th>\n",
       "      <th>Case Number.1</th>\n",
       "      <th>Case Number.2</th>\n",
       "      <th>original order</th>\n",
       "      <th>Unnamed: 22</th>\n",
       "      <th>Unnamed: 23</th>\n",
       "    </tr>\n",
       "  </thead>\n",
       "  <tbody>\n",
       "    <tr>\n",
       "      <th>0</th>\n",
       "      <td>2018.06.25</td>\n",
       "      <td>25-Jun-2018</td>\n",
       "      <td>2018.0</td>\n",
       "      <td>Boating</td>\n",
       "      <td>USA</td>\n",
       "      <td>California</td>\n",
       "      <td>Oceanside, San Diego County</td>\n",
       "      <td>Paddling</td>\n",
       "      <td>Julie Wolfe</td>\n",
       "      <td>F</td>\n",
       "      <td>...</td>\n",
       "      <td>White shark</td>\n",
       "      <td>R. Collier, GSAF</td>\n",
       "      <td>2018.06.25-Wolfe.pdf</td>\n",
       "      <td>http://sharkattackfile.net/spreadsheets/pdf_di...</td>\n",
       "      <td>http://sharkattackfile.net/spreadsheets/pdf_di...</td>\n",
       "      <td>2018.06.25</td>\n",
       "      <td>2018.06.25</td>\n",
       "      <td>6303.0</td>\n",
       "      <td>NaN</td>\n",
       "      <td>NaN</td>\n",
       "    </tr>\n",
       "    <tr>\n",
       "      <th>1</th>\n",
       "      <td>2018.06.18</td>\n",
       "      <td>18-Jun-2018</td>\n",
       "      <td>2018.0</td>\n",
       "      <td>Unprovoked</td>\n",
       "      <td>USA</td>\n",
       "      <td>Georgia</td>\n",
       "      <td>St. Simon Island, Glynn County</td>\n",
       "      <td>Standing</td>\n",
       "      <td>Adyson McNeely</td>\n",
       "      <td>F</td>\n",
       "      <td>...</td>\n",
       "      <td>NaN</td>\n",
       "      <td>K.McMurray, TrackingSharks.com</td>\n",
       "      <td>2018.06.18-McNeely.pdf</td>\n",
       "      <td>http://sharkattackfile.net/spreadsheets/pdf_di...</td>\n",
       "      <td>http://sharkattackfile.net/spreadsheets/pdf_di...</td>\n",
       "      <td>2018.06.18</td>\n",
       "      <td>2018.06.18</td>\n",
       "      <td>6302.0</td>\n",
       "      <td>NaN</td>\n",
       "      <td>NaN</td>\n",
       "    </tr>\n",
       "    <tr>\n",
       "      <th>2</th>\n",
       "      <td>2018.06.09</td>\n",
       "      <td>09-Jun-2018</td>\n",
       "      <td>2018.0</td>\n",
       "      <td>Invalid</td>\n",
       "      <td>USA</td>\n",
       "      <td>Hawaii</td>\n",
       "      <td>Habush, Oahu</td>\n",
       "      <td>Surfing</td>\n",
       "      <td>John Denges</td>\n",
       "      <td>M</td>\n",
       "      <td>...</td>\n",
       "      <td>NaN</td>\n",
       "      <td>K.McMurray, TrackingSharks.com</td>\n",
       "      <td>2018.06.09-Denges.pdf</td>\n",
       "      <td>http://sharkattackfile.net/spreadsheets/pdf_di...</td>\n",
       "      <td>http://sharkattackfile.net/spreadsheets/pdf_di...</td>\n",
       "      <td>2018.06.09</td>\n",
       "      <td>2018.06.09</td>\n",
       "      <td>6301.0</td>\n",
       "      <td>NaN</td>\n",
       "      <td>NaN</td>\n",
       "    </tr>\n",
       "    <tr>\n",
       "      <th>3</th>\n",
       "      <td>2018.06.08</td>\n",
       "      <td>08-Jun-2018</td>\n",
       "      <td>2018.0</td>\n",
       "      <td>Unprovoked</td>\n",
       "      <td>AUSTRALIA</td>\n",
       "      <td>New South Wales</td>\n",
       "      <td>Arrawarra Headland</td>\n",
       "      <td>Surfing</td>\n",
       "      <td>male</td>\n",
       "      <td>M</td>\n",
       "      <td>...</td>\n",
       "      <td>2 m shark</td>\n",
       "      <td>B. Myatt, GSAF</td>\n",
       "      <td>2018.06.08-Arrawarra.pdf</td>\n",
       "      <td>http://sharkattackfile.net/spreadsheets/pdf_di...</td>\n",
       "      <td>http://sharkattackfile.net/spreadsheets/pdf_di...</td>\n",
       "      <td>2018.06.08</td>\n",
       "      <td>2018.06.08</td>\n",
       "      <td>6300.0</td>\n",
       "      <td>NaN</td>\n",
       "      <td>NaN</td>\n",
       "    </tr>\n",
       "    <tr>\n",
       "      <th>4</th>\n",
       "      <td>2018.06.04</td>\n",
       "      <td>04-Jun-2018</td>\n",
       "      <td>2018.0</td>\n",
       "      <td>Provoked</td>\n",
       "      <td>MEXICO</td>\n",
       "      <td>Colima</td>\n",
       "      <td>La Ticla</td>\n",
       "      <td>Free diving</td>\n",
       "      <td>Gustavo Ramos</td>\n",
       "      <td>M</td>\n",
       "      <td>...</td>\n",
       "      <td>Tiger shark, 3m</td>\n",
       "      <td>A .Kipper</td>\n",
       "      <td>2018.06.04-Ramos.pdf</td>\n",
       "      <td>http://sharkattackfile.net/spreadsheets/pdf_di...</td>\n",
       "      <td>http://sharkattackfile.net/spreadsheets/pdf_di...</td>\n",
       "      <td>2018.06.04</td>\n",
       "      <td>2018.06.04</td>\n",
       "      <td>6299.0</td>\n",
       "      <td>NaN</td>\n",
       "      <td>NaN</td>\n",
       "    </tr>\n",
       "  </tbody>\n",
       "</table>\n",
       "<p>5 rows × 24 columns</p>\n",
       "</div>"
      ],
      "text/plain": [
       "  Case Number         Date    Year        Type    Country             Area  \\\n",
       "0  2018.06.25  25-Jun-2018  2018.0     Boating        USA       California   \n",
       "1  2018.06.18  18-Jun-2018  2018.0  Unprovoked        USA          Georgia   \n",
       "2  2018.06.09  09-Jun-2018  2018.0     Invalid        USA           Hawaii   \n",
       "3  2018.06.08  08-Jun-2018  2018.0  Unprovoked  AUSTRALIA  New South Wales   \n",
       "4  2018.06.04  04-Jun-2018  2018.0    Provoked     MEXICO           Colima   \n",
       "\n",
       "                         Location     Activity             Name Sex   ...  \\\n",
       "0     Oceanside, San Diego County     Paddling      Julie Wolfe    F  ...   \n",
       "1  St. Simon Island, Glynn County     Standing  Adyson McNeely     F  ...   \n",
       "2                    Habush, Oahu      Surfing      John Denges    M  ...   \n",
       "3              Arrawarra Headland      Surfing             male    M  ...   \n",
       "4                        La Ticla  Free diving   Gustavo Ramos     M  ...   \n",
       "\n",
       "          Species           Investigator or Source                       pdf  \\\n",
       "0      White shark                R. Collier, GSAF      2018.06.25-Wolfe.pdf   \n",
       "1              NaN  K.McMurray, TrackingSharks.com    2018.06.18-McNeely.pdf   \n",
       "2              NaN  K.McMurray, TrackingSharks.com     2018.06.09-Denges.pdf   \n",
       "3        2 m shark                  B. Myatt, GSAF  2018.06.08-Arrawarra.pdf   \n",
       "4  Tiger shark, 3m                       A .Kipper      2018.06.04-Ramos.pdf   \n",
       "\n",
       "                                        href formula  \\\n",
       "0  http://sharkattackfile.net/spreadsheets/pdf_di...   \n",
       "1  http://sharkattackfile.net/spreadsheets/pdf_di...   \n",
       "2  http://sharkattackfile.net/spreadsheets/pdf_di...   \n",
       "3  http://sharkattackfile.net/spreadsheets/pdf_di...   \n",
       "4  http://sharkattackfile.net/spreadsheets/pdf_di...   \n",
       "\n",
       "                                                href Case Number.1  \\\n",
       "0  http://sharkattackfile.net/spreadsheets/pdf_di...    2018.06.25   \n",
       "1  http://sharkattackfile.net/spreadsheets/pdf_di...    2018.06.18   \n",
       "2  http://sharkattackfile.net/spreadsheets/pdf_di...    2018.06.09   \n",
       "3  http://sharkattackfile.net/spreadsheets/pdf_di...    2018.06.08   \n",
       "4  http://sharkattackfile.net/spreadsheets/pdf_di...    2018.06.04   \n",
       "\n",
       "  Case Number.2 original order Unnamed: 22 Unnamed: 23  \n",
       "0    2018.06.25         6303.0         NaN         NaN  \n",
       "1    2018.06.18         6302.0         NaN         NaN  \n",
       "2    2018.06.09         6301.0         NaN         NaN  \n",
       "3    2018.06.08         6300.0         NaN         NaN  \n",
       "4    2018.06.04         6299.0         NaN         NaN  \n",
       "\n",
       "[5 rows x 24 columns]"
      ]
     },
     "execution_count": 1707,
     "metadata": {},
     "output_type": "execute_result"
    }
   ],
   "source": [
    "tiburon = data\n",
    "tiburon.head()"
   ]
  },
  {
   "cell_type": "markdown",
   "metadata": {},
   "source": [
    "# Hipótesis\n",
    "\n",
    "\n",
    "Después de haber observado el DataFrame y el tipo de información que la integra, considero que sería interesante realizar mi trabajo con respecto a la siguiente hipótesis: Desde 1950, el número de ataques de tiburón tienen consecuencias menos importantes para sus víctimas con el paso de los años."
   ]
  },
  {
   "cell_type": "markdown",
   "metadata": {},
   "source": [
    "# Paso 2: Hacer la limpieza de datos"
   ]
  },
  {
   "cell_type": "markdown",
   "metadata": {},
   "source": [
    "Aunque existen muchas maneras de limpiar datos, he decidido quedarme exclusivamente con la información que me permite realizar el trabajo de forma directa. He tomado esta decisión ya que considero que la recogida de datos contiene muchos errores y tiene poca fiabilidad. Por esta razón, me parece peligroso basarme en otras columnas que no sean aquellas que necesito directamente para mi trabajo. Veremos hasta qué punto los resultados que voy a obtener son significativos, con respecto a la muestra con la que voy a operar."
   ]
  },
  {
   "cell_type": "code",
   "execution_count": 1708,
   "metadata": {},
   "outputs": [
    {
     "data": {
      "text/html": [
       "<div>\n",
       "<style scoped>\n",
       "    .dataframe tbody tr th:only-of-type {\n",
       "        vertical-align: middle;\n",
       "    }\n",
       "\n",
       "    .dataframe tbody tr th {\n",
       "        vertical-align: top;\n",
       "    }\n",
       "\n",
       "    .dataframe thead th {\n",
       "        text-align: right;\n",
       "    }\n",
       "</style>\n",
       "<table border=\"1\" class=\"dataframe\">\n",
       "  <thead>\n",
       "    <tr style=\"text-align: right;\">\n",
       "      <th></th>\n",
       "      <th>Case Number</th>\n",
       "      <th>Year</th>\n",
       "      <th>Fatal (Y/N)</th>\n",
       "    </tr>\n",
       "  </thead>\n",
       "  <tbody>\n",
       "    <tr>\n",
       "      <th>0</th>\n",
       "      <td>2018.06.25</td>\n",
       "      <td>2018.0</td>\n",
       "      <td>N</td>\n",
       "    </tr>\n",
       "    <tr>\n",
       "      <th>1</th>\n",
       "      <td>2018.06.18</td>\n",
       "      <td>2018.0</td>\n",
       "      <td>N</td>\n",
       "    </tr>\n",
       "    <tr>\n",
       "      <th>2</th>\n",
       "      <td>2018.06.09</td>\n",
       "      <td>2018.0</td>\n",
       "      <td>N</td>\n",
       "    </tr>\n",
       "    <tr>\n",
       "      <th>3</th>\n",
       "      <td>2018.06.08</td>\n",
       "      <td>2018.0</td>\n",
       "      <td>N</td>\n",
       "    </tr>\n",
       "    <tr>\n",
       "      <th>4</th>\n",
       "      <td>2018.06.04</td>\n",
       "      <td>2018.0</td>\n",
       "      <td>N</td>\n",
       "    </tr>\n",
       "  </tbody>\n",
       "</table>\n",
       "</div>"
      ],
      "text/plain": [
       "  Case Number    Year Fatal (Y/N)\n",
       "0  2018.06.25  2018.0           N\n",
       "1  2018.06.18  2018.0           N\n",
       "2  2018.06.09  2018.0           N\n",
       "3  2018.06.08  2018.0           N\n",
       "4  2018.06.04  2018.0           N"
      ]
     },
     "execution_count": 1708,
     "metadata": {},
     "output_type": "execute_result"
    }
   ],
   "source": [
    "#Elimino las columnas con las que no voy a operar, creando la variable col_malas\n",
    "\n",
    "col_malas = tiburon.drop(columns = ['Date','Type','Sex ','Country','Area','Location','Activity','Name','Age','Injury','Time','Species ','Investigator or Source','pdf','href formula','href','Case Number.1','Case Number.2','original order','Unnamed: 22','Unnamed: 23'], axis=1)\n",
    "tiburon = col_malas\n",
    "tiburon.head()\n",
    "\n"
   ]
  },
  {
   "cell_type": "markdown",
   "metadata": {},
   "source": [
    "No es necesario cambiar el nombre de nuestras columnas ya que no tienen errores (contrariamente al nombre de otras columnas que hemos borrado)."
   ]
  },
  {
   "cell_type": "markdown",
   "metadata": {},
   "source": [
    "Para entrenarme a crear funciones, y sabiendo que voy a tener que limpiar muchos datos, he decidido crear una función para conocer número de valores de todas las columnas:"
   ]
  },
  {
   "cell_type": "code",
   "execution_count": 1709,
   "metadata": {},
   "outputs": [],
   "source": [
    "def cls_counts(df):\n",
    "    for col in df.columns:\n",
    "        print(\"---%s---\" %col)\n",
    "        print(df[col].value_counts())"
   ]
  },
  {
   "cell_type": "code",
   "execution_count": 1710,
   "metadata": {},
   "outputs": [
    {
     "name": "stdout",
     "output_type": "stream",
     "text": [
      "---Case Number---\n",
      "0                 2400\n",
      "2009.12.18           2\n",
      "2013.10.05           2\n",
      "1907.10.16.R         2\n",
      "1980.07.00           2\n",
      "1913.08.27.R         2\n",
      "1920.00.00.b         2\n",
      "2014.08.02           2\n",
      "2005.04.06           2\n",
      "1923.00.00.a         2\n",
      "1990.05.10           2\n",
      "2006.09.02           2\n",
      "1966.12.26           2\n",
      "1915.07.06.a.R       2\n",
      "2012.09.02.b         2\n",
      "1962.06.11.b         2\n",
      "1983.06.15           2\n",
      "1946.00.00.a         1\n",
      "2017.08.29           1\n",
      "1965.12.19           1\n",
      "1878.09.02.a         1\n",
      "1950.04.09.b         1\n",
      "1987.06.13           1\n",
      "1960.08.10           1\n",
      "2016.04.09           1\n",
      "1965.12.10           1\n",
      "1996.01.12           1\n",
      "2000.06.09.a         1\n",
      "2014.08.29.b         1\n",
      "1958.12.13           1\n",
      "                  ... \n",
      "1919.03.16           1\n",
      "1994.00.00.a         1\n",
      "2018.03.09.a         1\n",
      "1973.11.25           1\n",
      "1939.10.04           1\n",
      "1963.04.22           1\n",
      "1948.11.18           1\n",
      "1936.04.22           1\n",
      "2001.08.25           1\n",
      "1901.00.00           1\n",
      "1928.05.17           1\n",
      "1895.00.00.b         1\n",
      "1832.06.04           1\n",
      "1994.12.13           1\n",
      "1961.01.22           1\n",
      "1959.05.00           1\n",
      "1827.00.00           1\n",
      "2017.03.19           1\n",
      "1992.01.29.b         1\n",
      "1930.04.08           1\n",
      "2011.06.06.R         1\n",
      "1974.09.00           1\n",
      "1988.10.24           1\n",
      "2014.11.08           1\n",
      "2009.03.17.R         1\n",
      "1960.01.01           1\n",
      "1995.03.05           1\n",
      "1938.12.27           1\n",
      "2013.03.12           1\n",
      "1992.12.28           1\n",
      "Name: Case Number, Length: 6287, dtype: int64\n",
      "---Year---\n",
      "2015.0    143\n",
      "2017.0    136\n",
      "2016.0    130\n",
      "2011.0    128\n",
      "2014.0    127\n",
      "0.0       125\n",
      "2008.0    122\n",
      "2013.0    122\n",
      "2009.0    120\n",
      "2012.0    117\n",
      "2007.0    112\n",
      "2006.0    103\n",
      "2005.0    103\n",
      "2010.0    101\n",
      "2000.0     97\n",
      "1959.0     93\n",
      "1960.0     93\n",
      "2003.0     92\n",
      "2004.0     92\n",
      "2001.0     92\n",
      "2002.0     88\n",
      "1962.0     86\n",
      "1961.0     78\n",
      "1995.0     76\n",
      "1999.0     66\n",
      "1964.0     66\n",
      "1998.0     65\n",
      "1963.0     61\n",
      "1996.0     61\n",
      "1966.0     58\n",
      "         ... \n",
      "1784.0      1\n",
      "1617.0      1\n",
      "1764.0      1\n",
      "1721.0      1\n",
      "1792.0      1\n",
      "1834.0      1\n",
      "1841.0      1\n",
      "1595.0      1\n",
      "1755.0      1\n",
      "1738.0      1\n",
      "1807.0      1\n",
      "1723.0      1\n",
      "1804.0      1\n",
      "1780.0      1\n",
      "1801.0      1\n",
      "1767.0      1\n",
      "1815.0      1\n",
      "1822.0      1\n",
      "1818.0      1\n",
      "1783.0      1\n",
      "1797.0      1\n",
      "1800.0      1\n",
      "1771.0      1\n",
      "1748.0      1\n",
      "1555.0      1\n",
      "1753.0      1\n",
      "77.0        1\n",
      "1785.0      1\n",
      "1580.0      1\n",
      "1543.0      1\n",
      "Name: Year, Length: 249, dtype: int64\n",
      "---Fatal (Y/N)---\n",
      "N          4293\n",
      "Y          1388\n",
      "UNKNOWN      71\n",
      " N            7\n",
      "N             1\n",
      "y             1\n",
      "M             1\n",
      "2017          1\n",
      "Name: Fatal (Y/N), dtype: int64\n"
     ]
    }
   ],
   "source": [
    "#Pruebo mi función:\n",
    "cls_counts(tiburon)"
   ]
  },
  {
   "cell_type": "markdown",
   "metadata": {},
   "source": [
    "Ahora voy a centrarme en limpiar por separado aquellas columnas que componen mi nueva tabla."
   ]
  },
  {
   "cell_type": "markdown",
   "metadata": {},
   "source": [
    "# A) Columna Case Number"
   ]
  },
  {
   "cell_type": "markdown",
   "metadata": {},
   "source": [
    "En primer lugar, quiero eliminar las filas duplicadas en la columna Case Number. Esta columna es importante ya que nos da una estimación del número total de ataques de tiburón.\n",
    "\n",
    "Después de haber observado el dataframe, he llegado a la conclusión de que cada una de las filas debería tener un valor diferente: vemos que cada registro está compuesto de la fecha del día del accidente (AAAA.MM.DD), a la que se le añade una letra en orden alfabético en los casos en los que ha habido más de un ataque en el día. \n",
    "\n",
    "Por supuesto, no tenemos la certeza de que los registros se nombren de esta manera. Aún mucho menos que quitando los duplicados, obtengamos el número real de ataques de tiburón. No obstante, teniendo tan poca información acerca de cómo se han recogido y plasmado los datos, ninguna metodología nos daría esa seguridad."
   ]
  },
  {
   "cell_type": "code",
   "execution_count": 1711,
   "metadata": {},
   "outputs": [
    {
     "data": {
      "text/plain": [
       "(25723, 3)"
      ]
     },
     "execution_count": 1711,
     "metadata": {},
     "output_type": "execute_result"
    }
   ],
   "source": [
    "#Eliminamos los registros duplicados si los hubiese\n",
    "var1 = tiburon.drop_duplicates(subset=['Case Number'], keep='first')\n",
    "tiburon['Case Number'] = var1\n",
    "tiburon.shape\n"
   ]
  },
  {
   "cell_type": "markdown",
   "metadata": {},
   "source": [
    "Vemos que no existían duplicados, ya que el número de filas se ha mantenido. Ahora vamos a proceder a cambiar el valor de los registros nulos por 0, ya que vamos a proceder a eliminarlos. "
   ]
  },
  {
   "cell_type": "code",
   "execution_count": 1712,
   "metadata": {},
   "outputs": [
    {
     "data": {
      "text/plain": [
       "(5749, 3)"
      ]
     },
     "execution_count": 1712,
     "metadata": {},
     "output_type": "execute_result"
    }
   ],
   "source": [
    "var2 = tiburon.dropna(how = 'any')\n",
    "tiburon = var2\n",
    "tiburon.shape"
   ]
  },
  {
   "cell_type": "markdown",
   "metadata": {},
   "source": [
    "Ahora el dataframe con el que vamos a trabajar va a ser mucho más reducido, ya que hemos descendido de 25723 a 5749 filas."
   ]
  },
  {
   "cell_type": "markdown",
   "metadata": {},
   "source": [
    "## B) Columna Year"
   ]
  },
  {
   "cell_type": "markdown",
   "metadata": {},
   "source": [
    "Elimino todos aquellos registros en los que su valor sea cero o nulo. También modifico el tipo de Year a un 'interger', para eliminar el '.0'."
   ]
  },
  {
   "cell_type": "code",
   "execution_count": 1713,
   "metadata": {},
   "outputs": [],
   "source": [
    "tiburon[\"Year\"].isnull()\n",
    "pd.to_numeric(tiburon[\"Year\"], errors = \"coerce\")\n",
    "tiburon = tiburon.dropna(subset = [\"Year\"])\n",
    "tiburon[\"Year\"] = tiburon[\"Year\"].astype(int)"
   ]
  },
  {
   "cell_type": "markdown",
   "metadata": {},
   "source": [
    "Ahora vamos a eliminar las filas que incluyan fechas inferiores a 1950."
   ]
  },
  {
   "cell_type": "code",
   "execution_count": 1714,
   "metadata": {},
   "outputs": [
    {
     "data": {
      "text/html": [
       "<div>\n",
       "<style scoped>\n",
       "    .dataframe tbody tr th:only-of-type {\n",
       "        vertical-align: middle;\n",
       "    }\n",
       "\n",
       "    .dataframe tbody tr th {\n",
       "        vertical-align: top;\n",
       "    }\n",
       "\n",
       "    .dataframe thead th {\n",
       "        text-align: right;\n",
       "    }\n",
       "</style>\n",
       "<table border=\"1\" class=\"dataframe\">\n",
       "  <thead>\n",
       "    <tr style=\"text-align: right;\">\n",
       "      <th></th>\n",
       "      <th>Case Number</th>\n",
       "      <th>Year</th>\n",
       "      <th>Fatal (Y/N)</th>\n",
       "    </tr>\n",
       "  </thead>\n",
       "  <tbody>\n",
       "    <tr>\n",
       "      <th>0</th>\n",
       "      <td>2018.06.25</td>\n",
       "      <td>2018</td>\n",
       "      <td>N</td>\n",
       "    </tr>\n",
       "    <tr>\n",
       "      <th>1</th>\n",
       "      <td>2018.06.18</td>\n",
       "      <td>2018</td>\n",
       "      <td>N</td>\n",
       "    </tr>\n",
       "    <tr>\n",
       "      <th>2</th>\n",
       "      <td>2018.06.09</td>\n",
       "      <td>2018</td>\n",
       "      <td>N</td>\n",
       "    </tr>\n",
       "    <tr>\n",
       "      <th>3</th>\n",
       "      <td>2018.06.08</td>\n",
       "      <td>2018</td>\n",
       "      <td>N</td>\n",
       "    </tr>\n",
       "    <tr>\n",
       "      <th>4</th>\n",
       "      <td>2018.06.04</td>\n",
       "      <td>2018</td>\n",
       "      <td>N</td>\n",
       "    </tr>\n",
       "  </tbody>\n",
       "</table>\n",
       "</div>"
      ],
      "text/plain": [
       "  Case Number  Year Fatal (Y/N)\n",
       "0  2018.06.25  2018           N\n",
       "1  2018.06.18  2018           N\n",
       "2  2018.06.09  2018           N\n",
       "3  2018.06.08  2018           N\n",
       "4  2018.06.04  2018           N"
      ]
     },
     "execution_count": 1714,
     "metadata": {},
     "output_type": "execute_result"
    }
   ],
   "source": [
    "var3 = tiburon[(tiburon[\"Year\"] >= 1950)]\n",
    "tiburon = var3\n",
    "tiburon.head()"
   ]
  },
  {
   "cell_type": "markdown",
   "metadata": {},
   "source": [
    "## C) Columna Fatal (Y/N)"
   ]
  },
  {
   "cell_type": "markdown",
   "metadata": {},
   "source": [
    "Además de lo hecho anteriormente, vamos a eliminar las filas en las que el valor en las columnas Year y Fatal (Y/N) sea igual a cero. Esto lo hacemos para que estos datos (que parecen incorrectos), no afecten a nuestros resultados."
   ]
  },
  {
   "cell_type": "code",
   "execution_count": 1715,
   "metadata": {},
   "outputs": [
    {
     "data": {
      "text/plain": [
       "(4123, 3)"
      ]
     },
     "execution_count": 1715,
     "metadata": {},
     "output_type": "execute_result"
    }
   ],
   "source": [
    "tiburon = tiburon[tiburon[\"Fatal (Y/N)\"] != 0].copy()\n",
    "tiburon.shape\n"
   ]
  },
  {
   "cell_type": "markdown",
   "metadata": {},
   "source": [
    "Nuestra muestra ha descendido mucho, tal vez demasiado para que podamos sacar conclusiones significativas."
   ]
  },
  {
   "cell_type": "code",
   "execution_count": 1716,
   "metadata": {},
   "outputs": [
    {
     "data": {
      "text/html": [
       "<div>\n",
       "<style scoped>\n",
       "    .dataframe tbody tr th:only-of-type {\n",
       "        vertical-align: middle;\n",
       "    }\n",
       "\n",
       "    .dataframe tbody tr th {\n",
       "        vertical-align: top;\n",
       "    }\n",
       "\n",
       "    .dataframe thead th {\n",
       "        text-align: right;\n",
       "    }\n",
       "</style>\n",
       "<table border=\"1\" class=\"dataframe\">\n",
       "  <thead>\n",
       "    <tr style=\"text-align: right;\">\n",
       "      <th></th>\n",
       "      <th>Case Number</th>\n",
       "      <th>Year</th>\n",
       "      <th>Fatal (Y/N)</th>\n",
       "    </tr>\n",
       "  </thead>\n",
       "  <tbody>\n",
       "    <tr>\n",
       "      <th>0</th>\n",
       "      <td>2018.06.25</td>\n",
       "      <td>2018</td>\n",
       "      <td>N</td>\n",
       "    </tr>\n",
       "    <tr>\n",
       "      <th>1</th>\n",
       "      <td>2018.06.18</td>\n",
       "      <td>2018</td>\n",
       "      <td>N</td>\n",
       "    </tr>\n",
       "    <tr>\n",
       "      <th>2</th>\n",
       "      <td>2018.06.09</td>\n",
       "      <td>2018</td>\n",
       "      <td>N</td>\n",
       "    </tr>\n",
       "    <tr>\n",
       "      <th>3</th>\n",
       "      <td>2018.06.08</td>\n",
       "      <td>2018</td>\n",
       "      <td>N</td>\n",
       "    </tr>\n",
       "    <tr>\n",
       "      <th>4</th>\n",
       "      <td>2018.06.04</td>\n",
       "      <td>2018</td>\n",
       "      <td>N</td>\n",
       "    </tr>\n",
       "  </tbody>\n",
       "</table>\n",
       "</div>"
      ],
      "text/plain": [
       "  Case Number  Year Fatal (Y/N)\n",
       "0  2018.06.25  2018           N\n",
       "1  2018.06.18  2018           N\n",
       "2  2018.06.09  2018           N\n",
       "3  2018.06.08  2018           N\n",
       "4  2018.06.04  2018           N"
      ]
     },
     "execution_count": 1716,
     "metadata": {},
     "output_type": "execute_result"
    }
   ],
   "source": [
    "tiburon.head()"
   ]
  },
  {
   "cell_type": "markdown",
   "metadata": {},
   "source": [
    "Ahora vamos a homogeneizar los registros de manera a dejar tres opciones posibles (Y, N, Unknown). Como he encontrado muchos problemas al intentar resolver esta cuestión con replace y con regex, al final he optado por hacer un diccionario."
   ]
  },
  {
   "cell_type": "code",
   "execution_count": 1717,
   "metadata": {},
   "outputs": [],
   "source": [
    "def homog_fatal (v):\n",
    "\n",
    "    fatal = {\n",
    "\n",
    "        \"Y\":\"Y\", \"N\":\"N\", \"UNKNOWN\":\"UNKNOWN\",\"y\":\"Y\", \" Y\":\"Y\", \"Y \":\"Y\", \"n\":\"N\", \"N \":\"N\", \" N\":\"N\",\"M\":\"UNKNOWN\",\"2017\":\"UNKNOWN\"\n",
    "\n",
    "    }\n",
    "\n",
    "    for fatal, fila in fatal.items(): \n",
    "\n",
    "        if fatal in v: \n",
    "\n",
    "            return fila\n",
    "\n",
    "    return None"
   ]
  },
  {
   "cell_type": "code",
   "execution_count": 1718,
   "metadata": {},
   "outputs": [
    {
     "data": {
      "text/plain": [
       "N          3491\n",
       "Y           630\n",
       "UNKNOWN       2\n",
       "Name: Fatal (Y/N), dtype: int64"
      ]
     },
     "execution_count": 1718,
     "metadata": {},
     "output_type": "execute_result"
    }
   ],
   "source": [
    "tiburon[\"Fatal (Y/N)\"] = tiburon[\"Fatal (Y/N)\"].apply(homog_fatal)   \n",
    "tiburon[\"Fatal (Y/N)\"].value_counts()"
   ]
  },
  {
   "cell_type": "markdown",
   "metadata": {},
   "source": [
    "No obstante, como oodemos observar aquí, nos encontramos ante un error que no logro resolver. Solamente aparecen 2 filas con el nombre \"UNKNOWN\", a pesar de que anteriormente contábamos con 72 filas con ese valor, y que en el diccionario hemos incluído la posibilidad de que las filas tengan ese nombre."
   ]
  },
  {
   "cell_type": "code",
   "execution_count": 1719,
   "metadata": {},
   "outputs": [
    {
     "data": {
      "text/html": [
       "<div>\n",
       "<style scoped>\n",
       "    .dataframe tbody tr th:only-of-type {\n",
       "        vertical-align: middle;\n",
       "    }\n",
       "\n",
       "    .dataframe tbody tr th {\n",
       "        vertical-align: top;\n",
       "    }\n",
       "\n",
       "    .dataframe thead th {\n",
       "        text-align: right;\n",
       "    }\n",
       "</style>\n",
       "<table border=\"1\" class=\"dataframe\">\n",
       "  <thead>\n",
       "    <tr style=\"text-align: right;\">\n",
       "      <th></th>\n",
       "      <th>Case Number</th>\n",
       "      <th>Year</th>\n",
       "      <th>Fatal (Y/N)</th>\n",
       "    </tr>\n",
       "  </thead>\n",
       "  <tbody>\n",
       "    <tr>\n",
       "      <th>0</th>\n",
       "      <td>2018.06.25</td>\n",
       "      <td>2018</td>\n",
       "      <td>N</td>\n",
       "    </tr>\n",
       "    <tr>\n",
       "      <th>1</th>\n",
       "      <td>2018.06.18</td>\n",
       "      <td>2018</td>\n",
       "      <td>N</td>\n",
       "    </tr>\n",
       "    <tr>\n",
       "      <th>2</th>\n",
       "      <td>2018.06.09</td>\n",
       "      <td>2018</td>\n",
       "      <td>N</td>\n",
       "    </tr>\n",
       "    <tr>\n",
       "      <th>3</th>\n",
       "      <td>2018.06.08</td>\n",
       "      <td>2018</td>\n",
       "      <td>N</td>\n",
       "    </tr>\n",
       "    <tr>\n",
       "      <th>4</th>\n",
       "      <td>2018.06.04</td>\n",
       "      <td>2018</td>\n",
       "      <td>N</td>\n",
       "    </tr>\n",
       "  </tbody>\n",
       "</table>\n",
       "</div>"
      ],
      "text/plain": [
       "  Case Number  Year Fatal (Y/N)\n",
       "0  2018.06.25  2018           N\n",
       "1  2018.06.18  2018           N\n",
       "2  2018.06.09  2018           N\n",
       "3  2018.06.08  2018           N\n",
       "4  2018.06.04  2018           N"
      ]
     },
     "metadata": {},
     "output_type": "display_data"
    }
   ],
   "source": [
    "display(tiburon.head())"
   ]
  },
  {
   "cell_type": "markdown",
   "metadata": {},
   "source": [
    "# Paso 3: Realizar operaciones estadísticas para averiguar si la hipótesis que hemos planteado se cumple."
   ]
  },
  {
   "cell_type": "code",
   "execution_count": 1720,
   "metadata": {},
   "outputs": [
    {
     "name": "stdout",
     "output_type": "stream",
     "text": [
      "---Case Number---\n",
      "1983.07.05      1\n",
      "1955.08.26      1\n",
      "1969.05.25      1\n",
      "2017.11.24      1\n",
      "1981.12.13.a    1\n",
      "1960.01.21      1\n",
      "2014.07.14      1\n",
      "1959.01.12      1\n",
      "1966.08.16      1\n",
      "2013.06.14.R    1\n",
      "1995.06.30      1\n",
      "2016.09.18.a    1\n",
      "2004.09.04      1\n",
      "1966.07.17.b    1\n",
      "1965.04.04.b    1\n",
      "2010.07.17.a    1\n",
      "1992.05.00      1\n",
      "2015.05.29.b    1\n",
      "2018.05.27      1\n",
      "2013.07.02      1\n",
      "1960.04.00.b    1\n",
      "2003.10.05.c    1\n",
      "1970.12.07      1\n",
      "1998.08.23.R    1\n",
      "2018.04.23      1\n",
      "1987.05.08      1\n",
      "2003.04.15      1\n",
      "2001.09.13      1\n",
      "2007.01.25.b    1\n",
      "2012.09.16      1\n",
      "               ..\n",
      "2014.12.29.b    1\n",
      "2015.02.15      1\n",
      "1991.11.19      1\n",
      "2017.06.10.b    1\n",
      "1986.09.00.a    1\n",
      "2012.09.24      1\n",
      "2014.10.17      1\n",
      "2006.09.02      1\n",
      "1987.02.19      1\n",
      "2017.07.29.a    1\n",
      "2007.03.31.a    1\n",
      "1994.08.22      1\n",
      "1991.07.01.b    1\n",
      "1955.04.13.R    1\n",
      "2016.06.27      1\n",
      "1997.01.01      1\n",
      "1977.04.21      1\n",
      "2007.08.09.b    1\n",
      "2006.10.31      1\n",
      "1966.12.27.b    1\n",
      "2010.07.23      1\n",
      "1953.07.31      1\n",
      "1975.07.05      1\n",
      "1977.08.23      1\n",
      "1965.00.00.b    1\n",
      "1961.07.00.b    1\n",
      "2001.08.16      1\n",
      "1966.12.27.a    1\n",
      "1954.06.27      1\n",
      "1992.12.28      1\n",
      "Name: Case Number, Length: 4123, dtype: int64\n",
      "---Year---\n",
      "2015    130\n",
      "2017    123\n",
      "2016    119\n",
      "2011    118\n",
      "2014    117\n",
      "2013    114\n",
      "2008    111\n",
      "2009    110\n",
      "2012    107\n",
      "2007    101\n",
      "2010     97\n",
      "2006     92\n",
      "2005     91\n",
      "2000     91\n",
      "2001     87\n",
      "2003     86\n",
      "2002     84\n",
      "2004     83\n",
      "1959     81\n",
      "1960     80\n",
      "1962     79\n",
      "1961     72\n",
      "1995     68\n",
      "1998     63\n",
      "1999     63\n",
      "1996     60\n",
      "1964     58\n",
      "1993     55\n",
      "1963     55\n",
      "1994     54\n",
      "       ... \n",
      "1983     44\n",
      "1975     44\n",
      "1965     43\n",
      "1955     42\n",
      "1967     41\n",
      "1970     40\n",
      "1950     39\n",
      "1957     38\n",
      "1954     38\n",
      "1974     38\n",
      "1991     37\n",
      "1968     37\n",
      "1976     36\n",
      "1986     36\n",
      "1982     35\n",
      "1984     35\n",
      "1990     35\n",
      "1953     35\n",
      "1972     33\n",
      "1985     32\n",
      "1980     30\n",
      "1987     30\n",
      "1951     29\n",
      "1971     28\n",
      "1973     27\n",
      "1969     27\n",
      "1952     27\n",
      "1979     24\n",
      "1977     23\n",
      "1978     22\n",
      "Name: Year, Length: 69, dtype: int64\n",
      "---Fatal (Y/N)---\n",
      "N          3491\n",
      "Y           630\n",
      "UNKNOWN       2\n",
      "Name: Fatal (Y/N), dtype: int64\n"
     ]
    }
   ],
   "source": [
    "cls_counts(tiburon)"
   ]
  },
  {
   "cell_type": "code",
   "execution_count": 1721,
   "metadata": {},
   "outputs": [
    {
     "data": {
      "text/plain": [
       "Case Number    object\n",
       "Year            int64\n",
       "Fatal (Y/N)    object\n",
       "dtype: object"
      ]
     },
     "execution_count": 1721,
     "metadata": {},
     "output_type": "execute_result"
    }
   ],
   "source": [
    "tiburon.dtypes\n"
   ]
  },
  {
   "cell_type": "markdown",
   "metadata": {},
   "source": [
    "A través de la tabla que presentamos a continuación, podemos observar el número total de ataques fatales \"Y\", ataques fatales \"N\" y los ataques de los que no se tienen datos, por año, desde 1950."
   ]
  },
  {
   "cell_type": "code",
   "execution_count": 1722,
   "metadata": {},
   "outputs": [
    {
     "name": "stdout",
     "output_type": "stream",
     "text": [
      "Fatal (Y/N)   N  UNKNOWN   Y\n",
      "Year                        \n",
      "1950         29        0  10\n",
      "1951         18        0  11\n",
      "1952         18        0   9\n",
      "1953         29        0   6\n",
      "1954         23        0  15\n"
     ]
    }
   ],
   "source": [
    "print(pd.crosstab(tiburon[\"Year\"],tiburon[\"Fatal (Y/N)\"]).head())"
   ]
  },
  {
   "cell_type": "markdown",
   "metadata": {},
   "source": [
    "Ahora vamos a hacer la misma operación pero en porcentajes."
   ]
  },
  {
   "cell_type": "code",
   "execution_count": 1723,
   "metadata": {},
   "outputs": [
    {
     "name": "stdout",
     "output_type": "stream",
     "text": [
      "Fatal (Y/N)         N   UNKNOWN         Y\n",
      "Year                                     \n",
      "1950         0.743590  0.000000  0.256410\n",
      "1951         0.620690  0.000000  0.379310\n",
      "1952         0.666667  0.000000  0.333333\n",
      "1953         0.828571  0.000000  0.171429\n",
      "1954         0.605263  0.000000  0.394737\n",
      "1955         0.714286  0.000000  0.285714\n",
      "1956         0.588235  0.000000  0.411765\n",
      "1957         0.736842  0.000000  0.263158\n",
      "1958         0.625000  0.000000  0.375000\n",
      "1959         0.703704  0.000000  0.296296\n",
      "1960         0.825000  0.000000  0.175000\n",
      "1961         0.819444  0.000000  0.180556\n",
      "1962         0.810127  0.000000  0.189873\n",
      "1963         0.745455  0.000000  0.254545\n",
      "1964         0.724138  0.000000  0.275862\n",
      "1965         0.790698  0.000000  0.209302\n",
      "1966         0.700000  0.000000  0.300000\n",
      "1967         0.756098  0.000000  0.243902\n",
      "1968         0.864865  0.000000  0.135135\n",
      "1969         1.000000  0.000000  0.000000\n",
      "1970         0.800000  0.000000  0.200000\n",
      "1971         0.714286  0.000000  0.285714\n",
      "1972         0.757576  0.000000  0.242424\n",
      "1973         0.666667  0.000000  0.333333\n",
      "1974         0.763158  0.000000  0.236842\n",
      "1975         0.863636  0.000000  0.136364\n",
      "1976         0.833333  0.000000  0.166667\n",
      "1977         0.826087  0.000000  0.173913\n",
      "1978         0.909091  0.000000  0.090909\n",
      "1979         0.666667  0.000000  0.333333\n",
      "...               ...       ...       ...\n",
      "1989         0.872340  0.000000  0.127660\n",
      "1990         0.914286  0.000000  0.085714\n",
      "1991         0.837838  0.000000  0.162162\n",
      "1992         0.820000  0.000000  0.180000\n",
      "1993         0.709091  0.000000  0.290909\n",
      "1994         0.814815  0.000000  0.185185\n",
      "1995         0.823529  0.000000  0.176471\n",
      "1996         0.816667  0.000000  0.183333\n",
      "1997         0.851852  0.000000  0.148148\n",
      "1998         0.857143  0.000000  0.142857\n",
      "1999         0.920635  0.000000  0.079365\n",
      "2000         0.802198  0.000000  0.197802\n",
      "2001         0.931034  0.000000  0.068966\n",
      "2002         0.880952  0.000000  0.119048\n",
      "2003         0.906977  0.000000  0.093023\n",
      "2004         0.831325  0.000000  0.168675\n",
      "2005         0.923077  0.000000  0.076923\n",
      "2006         0.891304  0.000000  0.108696\n",
      "2007         0.950495  0.000000  0.049505\n",
      "2008         0.909910  0.000000  0.090090\n",
      "2009         0.881818  0.000000  0.118182\n",
      "2010         0.917526  0.000000  0.082474\n",
      "2011         0.881356  0.000000  0.118644\n",
      "2012         0.906542  0.009346  0.084112\n",
      "2013         0.885965  0.000000  0.114035\n",
      "2014         0.940171  0.000000  0.059829\n",
      "2015         0.930769  0.000000  0.069231\n",
      "2016         0.949580  0.008403  0.042017\n",
      "2017         0.934959  0.000000  0.065041\n",
      "2018         0.980769  0.000000  0.019231\n",
      "\n",
      "[69 rows x 3 columns]\n"
     ]
    }
   ],
   "source": [
    "print(pd.crosstab(tiburon[\"Year\"],tiburon[\"Fatal (Y/N)\"],normalize = \"index\"))"
   ]
  },
  {
   "cell_type": "code",
   "execution_count": 1724,
   "metadata": {},
   "outputs": [
    {
     "name": "stdout",
     "output_type": "stream",
     "text": [
      "               Year                \n",
      "Fatal (Y/N)       N UNKNOWN       Y\n",
      "Year                               \n",
      "1950         1950.0     NaN  1950.0\n",
      "1951         1951.0     NaN  1951.0\n",
      "1952         1952.0     NaN  1952.0\n",
      "1953         1953.0     NaN  1953.0\n",
      "1954         1954.0     NaN  1954.0\n",
      "1955         1955.0     NaN  1955.0\n",
      "1956         1956.0     NaN  1956.0\n",
      "1957         1957.0     NaN  1957.0\n",
      "1958         1958.0     NaN  1958.0\n",
      "1959         1959.0     NaN  1959.0\n",
      "1960         1960.0     NaN  1960.0\n",
      "1961         1961.0     NaN  1961.0\n",
      "1962         1962.0     NaN  1962.0\n",
      "1963         1963.0     NaN  1963.0\n",
      "1964         1964.0     NaN  1964.0\n",
      "1965         1965.0     NaN  1965.0\n",
      "1966         1966.0     NaN  1966.0\n",
      "1967         1967.0     NaN  1967.0\n",
      "1968         1968.0     NaN  1968.0\n",
      "1969         1969.0     NaN     NaN\n",
      "1970         1970.0     NaN  1970.0\n",
      "1971         1971.0     NaN  1971.0\n",
      "1972         1972.0     NaN  1972.0\n",
      "1973         1973.0     NaN  1973.0\n",
      "1974         1974.0     NaN  1974.0\n",
      "1975         1975.0     NaN  1975.0\n",
      "1976         1976.0     NaN  1976.0\n",
      "1977         1977.0     NaN  1977.0\n",
      "1978         1978.0     NaN  1978.0\n",
      "1979         1979.0     NaN  1979.0\n",
      "...             ...     ...     ...\n",
      "1989         1989.0     NaN  1989.0\n",
      "1990         1990.0     NaN  1990.0\n",
      "1991         1991.0     NaN  1991.0\n",
      "1992         1992.0     NaN  1992.0\n",
      "1993         1993.0     NaN  1993.0\n",
      "1994         1994.0     NaN  1994.0\n",
      "1995         1995.0     NaN  1995.0\n",
      "1996         1996.0     NaN  1996.0\n",
      "1997         1997.0     NaN  1997.0\n",
      "1998         1998.0     NaN  1998.0\n",
      "1999         1999.0     NaN  1999.0\n",
      "2000         2000.0     NaN  2000.0\n",
      "2001         2001.0     NaN  2001.0\n",
      "2002         2002.0     NaN  2002.0\n",
      "2003         2003.0     NaN  2003.0\n",
      "2004         2004.0     NaN  2004.0\n",
      "2005         2005.0     NaN  2005.0\n",
      "2006         2006.0     NaN  2006.0\n",
      "2007         2007.0     NaN  2007.0\n",
      "2008         2008.0     NaN  2008.0\n",
      "2009         2009.0     NaN  2009.0\n",
      "2010         2010.0     NaN  2010.0\n",
      "2011         2011.0     NaN  2011.0\n",
      "2012         2012.0  2012.0  2012.0\n",
      "2013         2013.0     NaN  2013.0\n",
      "2014         2014.0     NaN  2014.0\n",
      "2015         2015.0     NaN  2015.0\n",
      "2016         2016.0  2016.0  2016.0\n",
      "2017         2017.0     NaN  2017.0\n",
      "2018         2018.0     NaN  2018.0\n",
      "\n",
      "[69 rows x 3 columns]\n"
     ]
    }
   ],
   "source": [
    "#No aparece Values como Case Number... ¿Por qué?\n",
    "print(tiburon.pivot_table(index= [\"Year\"], columns= [\"Fatal (Y/N)\"],values=[\"Case Number\"], aggfunc = pd.Series.mean))"
   ]
  },
  {
   "cell_type": "code",
   "execution_count": 1725,
   "metadata": {},
   "outputs": [
    {
     "ename": "SyntaxError",
     "evalue": "invalid syntax (<ipython-input-1725-6d708067a222>, line 1)",
     "output_type": "error",
     "traceback": [
      "\u001b[0;36m  File \u001b[0;32m\"<ipython-input-1725-6d708067a222>\"\u001b[0;36m, line \u001b[0;32m1\u001b[0m\n\u001b[0;31m    tiburon.hist(column=\"Fatal (Y/N)\", by \"Year\")\u001b[0m\n\u001b[0m                                               ^\u001b[0m\n\u001b[0;31mSyntaxError\u001b[0m\u001b[0;31m:\u001b[0m invalid syntax\n"
     ]
    }
   ],
   "source": [
    "tiburon.hist(column=\"Fatal (Y/N)\", by \"Year\")"
   ]
  },
  {
   "cell_type": "code",
   "execution_count": null,
   "metadata": {},
   "outputs": [],
   "source": [
    "#Por qué no sale nada?\n",
    "tiburon.boxplot(column=\"Fatal (Y/N)\", by \"Year\")"
   ]
  },
  {
   "cell_type": "code",
   "execution_count": null,
   "metadata": {},
   "outputs": [],
   "source": [
    "#Por qué sale solo year?\n",
    "stats = tiburon.describe().transpose()\n",
    "tiburon = stats['IQR'] = stats['75%'] - stats['25%']\n",
    "tiburon"
   ]
  },
  {
   "cell_type": "code",
   "execution_count": null,
   "metadata": {},
   "outputs": [],
   "source": [
    "pd.tools.plotting.scatter_matrix(tiburon.select_dtypes(exclude = [\"object\"]))"
   ]
  },
  {
   "cell_type": "code",
   "execution_count": null,
   "metadata": {},
   "outputs": [],
   "source": []
  },
  {
   "cell_type": "code",
   "execution_count": null,
   "metadata": {},
   "outputs": [],
   "source": []
  },
  {
   "cell_type": "code",
   "execution_count": null,
   "metadata": {},
   "outputs": [],
   "source": []
  }
 ],
 "metadata": {
  "kernelspec": {
   "display_name": "Python 3",
   "language": "python",
   "name": "python3"
  },
  "language_info": {
   "codemirror_mode": {
    "name": "ipython",
    "version": 3
   },
   "file_extension": ".py",
   "mimetype": "text/x-python",
   "name": "python",
   "nbconvert_exporter": "python",
   "pygments_lexer": "ipython3",
   "version": "3.6.8"
  }
 },
 "nbformat": 4,
 "nbformat_minor": 2
}
